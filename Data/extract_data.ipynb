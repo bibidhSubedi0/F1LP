{
 "cells": [
  {
   "cell_type": "code",
   "execution_count": 1,
   "id": "4b5e47a1",
   "metadata": {},
   "outputs": [],
   "source": [
    "import fastf1\n",
    "from fastf1 import plotting\n",
    "import pandas as pd\n",
    "from data_schema import RacePredictionFeatures, PreraceFeatures, QualifyingFeatures, PastLapsFeatures, TelemetryFeatures\n",
    "from datetime import datetime\n"
   ]
  },
  {
   "cell_type": "code",
   "execution_count": 2,
   "id": "aacfb1e4",
   "metadata": {},
   "outputs": [
    {
     "name": "stderr",
     "output_type": "stream",
     "text": [
      "req         WARNING \tDEFAULT CACHE ENABLED! (178.94 MB) C:\\Users\\Bibidh Subedi\\AppData\\Local\\Temp\\fastf1\n",
      "core           INFO \tLoading data for Monaco Grand Prix - Qualifying [v3.6.0]\n",
      "req            INFO \tUsing cached data for session_info\n",
      "req            INFO \tUsing cached data for driver_info\n",
      "req            INFO \tUsing cached data for session_status_data\n",
      "req            INFO \tUsing cached data for track_status_data\n",
      "req            INFO \tUsing cached data for _extended_timing_data\n",
      "req            INFO \tUsing cached data for timing_app_data\n",
      "core           INFO \tProcessing timing data...\n",
      "req            INFO \tUsing cached data for car_data\n",
      "req            INFO \tUsing cached data for position_data\n",
      "req            INFO \tUsing cached data for weather_data\n",
      "req            INFO \tUsing cached data for race_control_messages\n",
      "core           INFO \tFinished loading data for 20 drivers: ['16', '81', '55', '4', '63', '1', '44', '22', '23', '10', '31', '3', '18', '27', '14', '2', '20', '11', '77', '24']\n"
     ]
    }
   ],
   "source": [
    "qsession = fastf1.get_session(2024, 'Monaco', 'Q')\n",
    "qsession.load()"
   ]
  },
  {
   "cell_type": "code",
   "execution_count": 3,
   "id": "a7c99ebb",
   "metadata": {},
   "outputs": [
    {
     "name": "stderr",
     "output_type": "stream",
     "text": [
      "core           INFO \tLoading data for Monaco Grand Prix - Race [v3.6.0]\n",
      "req            INFO \tUsing cached data for session_info\n",
      "req            INFO \tUsing cached data for driver_info\n",
      "req            INFO \tUsing cached data for session_status_data\n",
      "req            INFO \tUsing cached data for lap_count\n",
      "req            INFO \tUsing cached data for track_status_data\n",
      "req            INFO \tUsing cached data for _extended_timing_data\n",
      "req            INFO \tUsing cached data for timing_app_data\n",
      "core           INFO \tProcessing timing data...\n",
      "req            INFO \tUsing cached data for car_data\n",
      "req            INFO \tUsing cached data for position_data\n",
      "req            INFO \tUsing cached data for weather_data\n",
      "req            INFO \tUsing cached data for race_control_messages\n",
      "core           INFO \tFinished loading data for 20 drivers: ['16', '81', '55', '4', '63', '1', '44', '22', '23', '10', '14', '3', '77', '18', '2', '24', '31', '11', '27', '20']\n"
     ]
    }
   ],
   "source": [
    "session = fastf1.get_session(2024, 'Monaco', 'R')\n",
    "session.load()"
   ]
  },
  {
   "cell_type": "code",
   "execution_count": 4,
   "id": "cae4fa40",
   "metadata": {},
   "outputs": [],
   "source": [
    "drivers = [\"VER\",\"NOR\"]"
   ]
  },
  {
   "cell_type": "code",
   "execution_count": 5,
   "id": "7c7bba07",
   "metadata": {},
   "outputs": [],
   "source": [
    "driver = drivers[1]\n",
    "laps = session.laps.pick_drivers(driver)\n",
    "keys = session.car_data.keys()\n",
    "car_data = session.car_data['4']\n",
    "pos_data = session.pos_data['4']\n",
    "\n",
    "qlaps = qsession.laps.pick_drivers(driver)\n",
    "qcar_data = qsession.car_data['4']\n",
    "qpos_data = qsession.pos_data['4']"
   ]
  },
  {
   "cell_type": "markdown",
   "id": "a235f39e",
   "metadata": {},
   "source": [
    "# PRERACE FEATURES\n",
    "This needs to be from some external sources i guess? or idk basically definately not a part of the the session"
   ]
  },
  {
   "cell_type": "code",
   "execution_count": 6,
   "id": "8cf63b02",
   "metadata": {},
   "outputs": [
    {
     "data": {
      "text/html": [
       "<div>\n",
       "<style scoped>\n",
       "    .dataframe tbody tr th:only-of-type {\n",
       "        vertical-align: middle;\n",
       "    }\n",
       "\n",
       "    .dataframe tbody tr th {\n",
       "        vertical-align: top;\n",
       "    }\n",
       "\n",
       "    .dataframe thead th {\n",
       "        text-align: right;\n",
       "    }\n",
       "</style>\n",
       "<table border=\"1\" class=\"dataframe\">\n",
       "  <thead>\n",
       "    <tr style=\"text-align: right;\">\n",
       "      <th></th>\n",
       "      <th>Time</th>\n",
       "      <th>AirTemp</th>\n",
       "      <th>Humidity</th>\n",
       "      <th>Pressure</th>\n",
       "      <th>Rainfall</th>\n",
       "      <th>TrackTemp</th>\n",
       "      <th>WindDirection</th>\n",
       "      <th>WindSpeed</th>\n",
       "    </tr>\n",
       "  </thead>\n",
       "  <tbody>\n",
       "    <tr>\n",
       "      <th>0</th>\n",
       "      <td>0 days 00:00:54.094000</td>\n",
       "      <td>21.1</td>\n",
       "      <td>69.0</td>\n",
       "      <td>1019.1</td>\n",
       "      <td>False</td>\n",
       "      <td>49.4</td>\n",
       "      <td>27</td>\n",
       "      <td>1.1</td>\n",
       "    </tr>\n",
       "    <tr>\n",
       "      <th>1</th>\n",
       "      <td>0 days 00:01:54.088000</td>\n",
       "      <td>21.1</td>\n",
       "      <td>68.0</td>\n",
       "      <td>1019.1</td>\n",
       "      <td>False</td>\n",
       "      <td>49.5</td>\n",
       "      <td>2</td>\n",
       "      <td>0.8</td>\n",
       "    </tr>\n",
       "    <tr>\n",
       "      <th>2</th>\n",
       "      <td>0 days 00:02:54.095000</td>\n",
       "      <td>21.0</td>\n",
       "      <td>68.0</td>\n",
       "      <td>1019.2</td>\n",
       "      <td>False</td>\n",
       "      <td>50.0</td>\n",
       "      <td>3</td>\n",
       "      <td>0.9</td>\n",
       "    </tr>\n",
       "    <tr>\n",
       "      <th>3</th>\n",
       "      <td>0 days 00:03:54.083000</td>\n",
       "      <td>21.0</td>\n",
       "      <td>68.0</td>\n",
       "      <td>1019.1</td>\n",
       "      <td>False</td>\n",
       "      <td>48.3</td>\n",
       "      <td>8</td>\n",
       "      <td>0.7</td>\n",
       "    </tr>\n",
       "    <tr>\n",
       "      <th>4</th>\n",
       "      <td>0 days 00:04:54.095000</td>\n",
       "      <td>20.9</td>\n",
       "      <td>66.0</td>\n",
       "      <td>1019.1</td>\n",
       "      <td>False</td>\n",
       "      <td>48.4</td>\n",
       "      <td>107</td>\n",
       "      <td>1.2</td>\n",
       "    </tr>\n",
       "    <tr>\n",
       "      <th>...</th>\n",
       "      <td>...</td>\n",
       "      <td>...</td>\n",
       "      <td>...</td>\n",
       "      <td>...</td>\n",
       "      <td>...</td>\n",
       "      <td>...</td>\n",
       "      <td>...</td>\n",
       "      <td>...</td>\n",
       "    </tr>\n",
       "    <tr>\n",
       "      <th>195</th>\n",
       "      <td>0 days 03:15:54.885000</td>\n",
       "      <td>21.7</td>\n",
       "      <td>61.0</td>\n",
       "      <td>1018.4</td>\n",
       "      <td>False</td>\n",
       "      <td>40.6</td>\n",
       "      <td>224</td>\n",
       "      <td>0.9</td>\n",
       "    </tr>\n",
       "    <tr>\n",
       "      <th>196</th>\n",
       "      <td>0 days 03:16:54.899000</td>\n",
       "      <td>21.8</td>\n",
       "      <td>61.0</td>\n",
       "      <td>1018.4</td>\n",
       "      <td>False</td>\n",
       "      <td>40.9</td>\n",
       "      <td>219</td>\n",
       "      <td>1.2</td>\n",
       "    </tr>\n",
       "    <tr>\n",
       "      <th>197</th>\n",
       "      <td>0 days 03:17:54.901000</td>\n",
       "      <td>21.8</td>\n",
       "      <td>61.0</td>\n",
       "      <td>1018.4</td>\n",
       "      <td>False</td>\n",
       "      <td>40.9</td>\n",
       "      <td>284</td>\n",
       "      <td>0.8</td>\n",
       "    </tr>\n",
       "    <tr>\n",
       "      <th>198</th>\n",
       "      <td>0 days 03:18:54.896000</td>\n",
       "      <td>21.8</td>\n",
       "      <td>62.0</td>\n",
       "      <td>1018.4</td>\n",
       "      <td>False</td>\n",
       "      <td>40.2</td>\n",
       "      <td>0</td>\n",
       "      <td>0.8</td>\n",
       "    </tr>\n",
       "    <tr>\n",
       "      <th>199</th>\n",
       "      <td>0 days 03:19:54.900000</td>\n",
       "      <td>21.7</td>\n",
       "      <td>62.0</td>\n",
       "      <td>1018.5</td>\n",
       "      <td>False</td>\n",
       "      <td>40.3</td>\n",
       "      <td>168</td>\n",
       "      <td>0.6</td>\n",
       "    </tr>\n",
       "  </tbody>\n",
       "</table>\n",
       "<p>200 rows × 8 columns</p>\n",
       "</div>"
      ],
      "text/plain": [
       "                      Time  AirTemp  Humidity  Pressure  Rainfall  TrackTemp  \\\n",
       "0   0 days 00:00:54.094000     21.1      69.0    1019.1     False       49.4   \n",
       "1   0 days 00:01:54.088000     21.1      68.0    1019.1     False       49.5   \n",
       "2   0 days 00:02:54.095000     21.0      68.0    1019.2     False       50.0   \n",
       "3   0 days 00:03:54.083000     21.0      68.0    1019.1     False       48.3   \n",
       "4   0 days 00:04:54.095000     20.9      66.0    1019.1     False       48.4   \n",
       "..                     ...      ...       ...       ...       ...        ...   \n",
       "195 0 days 03:15:54.885000     21.7      61.0    1018.4     False       40.6   \n",
       "196 0 days 03:16:54.899000     21.8      61.0    1018.4     False       40.9   \n",
       "197 0 days 03:17:54.901000     21.8      61.0    1018.4     False       40.9   \n",
       "198 0 days 03:18:54.896000     21.8      62.0    1018.4     False       40.2   \n",
       "199 0 days 03:19:54.900000     21.7      62.0    1018.5     False       40.3   \n",
       "\n",
       "     WindDirection  WindSpeed  \n",
       "0               27        1.1  \n",
       "1                2        0.8  \n",
       "2                3        0.9  \n",
       "3                8        0.7  \n",
       "4              107        1.2  \n",
       "..             ...        ...  \n",
       "195            224        0.9  \n",
       "196            219        1.2  \n",
       "197            284        0.8  \n",
       "198              0        0.8  \n",
       "199            168        0.6  \n",
       "\n",
       "[200 rows x 8 columns]"
      ]
     },
     "execution_count": 6,
     "metadata": {},
     "output_type": "execute_result"
    }
   ],
   "source": [
    "session.weather_data"
   ]
  },
  {
   "cell_type": "code",
   "execution_count": 7,
   "id": "e9baec52",
   "metadata": {},
   "outputs": [
    {
     "data": {
      "text/plain": [
       "{'driverChampPoints': 275,\n",
       " 'constructorChampPoints': 400,\n",
       " 'trackType': 'street',\n",
       " 'expectedWeather': 'mixed'}"
      ]
     },
     "execution_count": 7,
     "metadata": {},
     "output_type": "execute_result"
    }
   ],
   "source": [
    "prerace = {\n",
    "    'driverChampPoints': 275,      # Placeholder\n",
    "    'constructorChampPoints': 400, # Placeholder\n",
    "    'trackType': 'street',\n",
    "    'expectedWeather': 'mixed'\n",
    "}\n",
    "prerace"
   ]
  },
  {
   "cell_type": "markdown",
   "id": "67c1718d",
   "metadata": {},
   "source": [
    "# QUALIFYING FEATURES"
   ]
  },
  {
   "cell_type": "code",
   "execution_count": 8,
   "id": "8f6e9a84",
   "metadata": {},
   "outputs": [
    {
     "data": {
      "text/plain": [
       "{'gridPosition': None,\n",
       " 'best3LapAvg': 70.738,\n",
       " 'deltaToPole': 0.27200000000000557,\n",
       " 'tireBestLap': 'SOFT'}"
      ]
     },
     "execution_count": 8,
     "metadata": {},
     "output_type": "execute_result"
    }
   ],
   "source": [
    "qbest3_laps = qlaps.nsmallest(3, 'LapTime')\n",
    "qbest3_avg = qbest3_laps['LapTime'].mean().total_seconds() if not qbest3_laps.empty else None\n",
    "fastest_lap = qlaps.pick_fastest()\n",
    "pole_time = qsession.laps.pick_fastest()['LapTime'].total_seconds()\n",
    "grid_position = qsession.results.loc[driver, 'GridPosition'] if driver in qsession.results.index else None\n",
    "\n",
    "qualifying = {\n",
    "    'gridPosition': grid_position,\n",
    "    'best3LapAvg': qbest3_avg,\n",
    "    'deltaToPole': fastest_lap['LapTime'].total_seconds() - pole_time if fastest_lap is not None else None,\n",
    "    'tireBestLap': fastest_lap['Compound'] if fastest_lap is not None else None\n",
    "}\n",
    "\n",
    "qualifying"
   ]
  },
  {
   "cell_type": "markdown",
   "id": "5595ec54",
   "metadata": {},
   "source": [
    "# PAST LAPS FEATURES"
   ]
  },
  {
   "cell_type": "code",
   "execution_count": 9,
   "id": "20e8d79c",
   "metadata": {},
   "outputs": [
    {
     "data": {
      "text/plain": [
       "{'currentLap': np.float64(78.0),\n",
       " 'position': np.float64(4.0),\n",
       " 'avgLapTime': 76.685,\n",
       " 'numPitStops': np.int64(1),\n",
       " 'timeLostInPits': None,\n",
       " 'positionsGainedLost': None,\n",
       " 'deltaToLeader': None,\n",
       " 'gapAhead': None,\n",
       " 'gapBehind': None}"
      ]
     },
     "execution_count": 9,
     "metadata": {},
     "output_type": "execute_result"
    }
   ],
   "source": [
    "current_lap = laps.iloc[-1]['LapNumber'] if not laps.empty else None\n",
    "position = laps.iloc[-1]['Position'] if not laps.empty else None\n",
    "recent_laps = laps.tail(5)\n",
    "avg_lap_time = recent_laps['LapTime'].mean().total_seconds() if not recent_laps.empty else None\n",
    "# lap_time_var = recent_laps['LapTime'].var() if not recent_laps.empty else None?\n",
    "num_pit_stops = laps['PitInTime'].count()\n",
    "positions_gained_lost = grid_position - position if grid_position and position else None\n",
    "\n",
    "past_laps = {\n",
    "    'currentLap': current_lap,\n",
    "    'position': position,\n",
    "    'avgLapTime': avg_lap_time,\n",
    "    'numPitStops': num_pit_stops,\n",
    "    'timeLostInPits': None,  # Needs calculation\n",
    "    'positionsGainedLost': positions_gained_lost,\n",
    "    'deltaToLeader': None,   # Needs calculation\n",
    "    'gapAhead': None,        # Needs calculation\n",
    "    'gapBehind': None        # Needs calculation\n",
    "}\n",
    "\n",
    "past_laps"
   ]
  },
  {
   "cell_type": "code",
   "execution_count": 10,
   "id": "e5a8cebc",
   "metadata": {},
   "outputs": [],
   "source": [
    "avg_speed = car_data['Speed'].mean() if not car_data.empty else None\n",
    "throttle_avg = car_data['Throttle'].mean() if 'Throttle' in car_data.columns else None\n",
    "throttle_var = car_data['Throttle'].var() if 'Throttle' in car_data.columns else None\n",
    "brake_usage_pct = (car_data['Brake'] > 0).mean() * 100 if 'Brake' in car_data.columns else None\n",
    "drs_usage_freq = (car_data['DRS'] > 0).sum() if 'DRS' in car_data.columns else None\n",
    "gear_shifts_per_lap = car_data['nGear'].diff().abs().sum() if 'nGear' in car_data.columns else None\n",
    "steering_var = car_data['Steer'].var() if 'Steer' in car_data.columns else None\n",
    "\n",
    "telemetry = {\n",
    "    'avgSpeed': avg_speed,\n",
    "    'throttleAvg': throttle_avg,\n",
    "    'throttleVar': throttle_var,\n",
    "    'brakeUsagePct': brake_usage_pct,\n",
    "    'drsUsageFreq': drs_usage_freq,\n",
    "    'gearShiftsPerLap': gear_shifts_per_lap,\n",
    "    'steeringVar': steering_var,\n",
    "    'relPosX': pos_data['X'].iloc[-1] if not pos_data.empty else None,\n",
    "    'relPosY': pos_data['Y'].iloc[-1] if not pos_data.empty else None,\n",
    "    'relPosZ': pos_data['Z'].iloc[-1] if not pos_data.empty else None,\n",
    "    'sectorMicroDeltas': None # Needs custom calculation\n",
    "}"
   ]
  },
  {
   "cell_type": "code",
   "execution_count": 11,
   "id": "d2769b85",
   "metadata": {},
   "outputs": [],
   "source": [
    "example = RacePredictionFeatures(\n",
    "    driverId=\"max_verstappen\",\n",
    "    teamId=\"red_bull_racing\",\n",
    "    timestamp=pd.Timestamp.now().to_pydatetime(),\n",
    "    prerace=PreraceFeatures(**prerace),\n",
    "    qualifying=QualifyingFeatures(**qualifying),\n",
    "    pastLaps=PastLapsFeatures(**past_laps),\n",
    "    telemetry=TelemetryFeatures(**telemetry)\n",
    ")"
   ]
  },
  {
   "cell_type": "code",
   "execution_count": 12,
   "id": "305344c8",
   "metadata": {},
   "outputs": [
    {
     "data": {
      "text/plain": [
       "RacePredictionFeatures(driverId='max_verstappen', teamId='red_bull_racing', timestamp=datetime.datetime(2025, 8, 8, 22, 43, 49, 296624), prerace=PreraceFeatures(driverChampPoints=275, constructorChampPoints=400, trackType='street', expectedWeather='mixed'), qualifying=QualifyingFeatures(gridPosition=None, best3LapAvg=70.738, deltaToPole=0.27200000000000557, tireBestLap='SOFT'), pastLaps=PastLapsFeatures(currentLap=78, position=4, avgLapTime=76.685, numPitStops=1, timeLostInPits=None, positionsGainedLost=None, deltaToLeader=None, gapAhead=None, gapBehind=None), telemetry=TelemetryFeatures(avgSpeed=81.56585968161573, throttleAvg=29.70337787185254, brakeUsagePct=21.718040305155004, drsUsageFreq=22581.0, gearShiftsPerLap=3238))"
      ]
     },
     "execution_count": 12,
     "metadata": {},
     "output_type": "execute_result"
    }
   ],
   "source": [
    "example"
   ]
  },
  {
   "cell_type": "code",
   "execution_count": 13,
   "id": "31011e4c",
   "metadata": {},
   "outputs": [
    {
     "name": "stdout",
     "output_type": "stream",
     "text": [
      "{\n",
      "    \"driverId\": \"max_verstappen\",\n",
      "    \"teamId\": \"red_bull_racing\",\n",
      "    \"timestamp\": \"2025-08-08T22:43:49.296624\",\n",
      "    \"prerace\": {\n",
      "        \"driverChampPoints\": 275,\n",
      "        \"constructorChampPoints\": 400,\n",
      "        \"trackType\": \"street\",\n",
      "        \"expectedWeather\": \"mixed\"\n",
      "    },\n",
      "    \"qualifying\": {\n",
      "        \"gridPosition\": null,\n",
      "        \"best3LapAvg\": 70.738,\n",
      "        \"deltaToPole\": 0.27200000000000557,\n",
      "        \"tireBestLap\": \"SOFT\"\n",
      "    },\n",
      "    \"pastLaps\": {\n",
      "        \"currentLap\": 78,\n",
      "        \"position\": 4,\n",
      "        \"avgLapTime\": 76.685,\n",
      "        \"numPitStops\": 1,\n",
      "        \"timeLostInPits\": null,\n",
      "        \"positionsGainedLost\": null,\n",
      "        \"deltaToLeader\": null,\n",
      "        \"gapAhead\": null,\n",
      "        \"gapBehind\": null\n",
      "    },\n",
      "    \"telemetry\": {\n",
      "        \"avgSpeed\": 81.56585968161573,\n",
      "        \"throttleAvg\": 29.70337787185254,\n",
      "        \"brakeUsagePct\": 21.718040305155004,\n",
      "        \"drsUsageFreq\": 22581.0,\n",
      "        \"gearShiftsPerLap\": 3238\n",
      "    }\n",
      "}\n"
     ]
    }
   ],
   "source": [
    "json_data = example.model_dump_json(indent=4)\n",
    "print(json_data)"
   ]
  },
  {
   "cell_type": "code",
   "execution_count": 14,
   "id": "a04b2c4f",
   "metadata": {},
   "outputs": [
    {
     "ename": "ValueError",
     "evalue": "The truth value of a Series is ambiguous. Use a.empty, a.bool(), a.item(), a.any() or a.all().",
     "output_type": "error",
     "traceback": [
      "\u001b[31m---------------------------------------------------------------------------\u001b[39m",
      "\u001b[31mValueError\u001b[39m                                Traceback (most recent call last)",
      "\u001b[32m~\\AppData\\Local\\Temp\\ipykernel_10492\\3772036921.py\u001b[39m in \u001b[36m?\u001b[39m\u001b[34m()\u001b[39m\n\u001b[32m      1\u001b[39m grid_positions = qsession.results\n\u001b[32m      2\u001b[39m \u001b[38;5;28;01mfor\u001b[39;00m i \u001b[38;5;28;01min\u001b[39;00m range(\u001b[32m20\u001b[39m):\n\u001b[32m----> \u001b[39m\u001b[32m3\u001b[39m     \u001b[38;5;28;01mif\u001b[39;00m grid_positions[i:i+\u001b[32m1\u001b[39m][\u001b[33m\"DriverNumber\"\u001b[39m] == \u001b[32m4\u001b[39m:\n\u001b[32m      4\u001b[39m         driver_position = qsession.results[qsession.results[\u001b[33m'Driver'\u001b[39m] == \u001b[32m4\u001b[39m][\u001b[33m'Position'\u001b[39m].values[\u001b[32m0\u001b[39m]\n\u001b[32m      5\u001b[39m         \u001b[38;5;28;01mbreak\u001b[39;00m\n\u001b[32m      6\u001b[39m \n",
      "\u001b[32md:\\F1LP\\Data\\venv\\Lib\\site-packages\\pandas\\core\\generic.py\u001b[39m in \u001b[36m?\u001b[39m\u001b[34m(self)\u001b[39m\n\u001b[32m   1575\u001b[39m     @final\n\u001b[32m   1576\u001b[39m     \u001b[38;5;28;01mdef\u001b[39;00m __nonzero__(self) -> NoReturn:\n\u001b[32m-> \u001b[39m\u001b[32m1577\u001b[39m         raise ValueError(\n\u001b[32m   1578\u001b[39m             f\"The truth value of a {type(self).__name__} is ambiguous. \"\n\u001b[32m   1579\u001b[39m             \u001b[33m\"Use a.empty, a.bool(), a.item(), a.any() or a.all().\"\u001b[39m\n\u001b[32m   1580\u001b[39m         )\n",
      "\u001b[31mValueError\u001b[39m: The truth value of a Series is ambiguous. Use a.empty, a.bool(), a.item(), a.any() or a.all()."
     ]
    }
   ],
   "source": [
    "grid_positions = qsession.results\n",
    "for i in range(20):\n",
    "    if grid_positions[i:i+1][\"DriverNumber\"] == 4:\n",
    "        driver_position = qsession.results[qsession.results['Driver'] == 4]['Position'].values[0]\n",
    "        break\n",
    "\n",
    "\n",
    "# driver_position = 0\n",
    "\n",
    "# for i in range(20):\n",
    "#     if grid_positions[\"DriverNumber\"] == 4:\n",
    "#         driver_position = qsession.results[qsession.results['Driver'] == 4]['Position'].values[0]\n",
    "\n",
    "# driver_position\n",
    "# driver_position = qsession.results[qsession.results['Driver'] == 4]['Position'].values[0]"
   ]
  },
  {
   "cell_type": "code",
   "execution_count": null,
   "id": "e69acee5",
   "metadata": {},
   "outputs": [],
   "source": []
  }
 ],
 "metadata": {
  "kernelspec": {
   "display_name": "venv",
   "language": "python",
   "name": "python3"
  },
  "language_info": {
   "codemirror_mode": {
    "name": "ipython",
    "version": 3
   },
   "file_extension": ".py",
   "mimetype": "text/x-python",
   "name": "python",
   "nbconvert_exporter": "python",
   "pygments_lexer": "ipython3",
   "version": "3.13.3"
  }
 },
 "nbformat": 4,
 "nbformat_minor": 5
}
