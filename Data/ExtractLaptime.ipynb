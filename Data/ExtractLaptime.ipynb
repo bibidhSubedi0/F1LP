{
 "cells": [
  {
   "cell_type": "code",
   "execution_count": 1,
   "id": "05be8111",
   "metadata": {},
   "outputs": [],
   "source": [
    "import fastf1\n",
    "import os\n",
    "import matplotlib.pyplot as plt\n",
    "import numpy as np\n",
    "import pandas as pd\n",
    "import General"
   ]
  },
  {
   "cell_type": "code",
   "execution_count": 2,
   "id": "c71be8ce",
   "metadata": {},
   "outputs": [],
   "source": [
    "os.makedirs('cache', exist_ok=True)\n",
    "fastf1.Cache.enable_cache('cache')"
   ]
  },
  {
   "cell_type": "code",
   "execution_count": 6,
   "id": "edb477f3",
   "metadata": {},
   "outputs": [],
   "source": [
    "def GetLapTimesForDriver(year, raceName, session):\n",
    "    sess = fastf1.get_session(year, raceName, session)\n",
    "    sess.load()\n",
    "    LapTimes = []\n",
    "    max_laps = 0\n",
    "    for d in sess.drivers:\n",
    "        laps = sess.laps.pick_driver(d)\n",
    "        lap_times = []\n",
    "        lt = laps[\"LapTime\"]\n",
    "        for item in lt:\n",
    "            x = item.total_seconds()\n",
    "            if np.isnan(x):\n",
    "                x = 0\n",
    "            lap_times.append(x)\n",
    "\n",
    "        LapTimes.append(lap_times)\n",
    "    df = pd.DataFrame(LapTimes, index=sess.drivers)\n",
    "    return df.T\n"
   ]
  },
  {
   "cell_type": "code",
   "execution_count": 7,
   "id": "ace6cd64",
   "metadata": {},
   "outputs": [
    {
     "name": "stderr",
     "output_type": "stream",
     "text": [
      "core           INFO \tLoading data for Australian Grand Prix - Race [v3.6.0]\n",
      "req            INFO \tUsing cached data for session_info\n",
      "req            INFO \tUsing cached data for driver_info\n"
     ]
    },
    {
     "name": "stderr",
     "output_type": "stream",
     "text": [
      "req            INFO \tUsing cached data for session_status_data\n",
      "req            INFO \tUsing cached data for lap_count\n",
      "req            INFO \tUsing cached data for track_status_data\n",
      "req            INFO \tUsing cached data for _extended_timing_data\n",
      "req            INFO \tUsing cached data for timing_app_data\n",
      "core           INFO \tProcessing timing data...\n",
      "core        WARNING \tFixed incorrect tyre stint information for driver '87'\n",
      "core        WARNING \tFixed incorrect tyre stint information for driver '30'\n",
      "core        WARNING \tFixed incorrect tyre stint information for driver '5'\n",
      "req            INFO \tUsing cached data for car_data\n",
      "req            INFO \tUsing cached data for position_data\n",
      "req            INFO \tUsing cached data for weather_data\n",
      "req            INFO \tUsing cached data for race_control_messages\n",
      "core        WARNING \tDriver 4 completed the race distance 00:00.022000 before the recorded end of the session.\n",
      "core           INFO \tFinished loading data for 20 drivers: ['4', '1', '63', '12', '23', '18', '27', '16', '81', '44', '10', '22', '31', '87', '30', '5', '14', '55', '7', '6']\n",
      "d:\\F1LP\\Data\\venv\\Lib\\site-packages\\fastf1\\core.py:3183: FutureWarning: pick_driver is deprecated and will be removed in a future release. Use pick_drivers instead.\n",
      "  warnings.warn((\"pick_driver is deprecated and will be removed\"\n"
     ]
    }
   ],
   "source": [
    "# for y in General.GetAllYears():\n",
    "    # for r in General.GetAllRaces(y):\n",
    "        # For now Race and quali only \"R\", \"Q\"\n",
    "        # for s in [\"R\",\"Q\"]:\n",
    "            # save_dataframe_to_new_folder(GetLapTimesForDriver(y,r,s))\n",
    "\n",
    "\n",
    "round = 1\n",
    "year = General.GetAllYears()[0]\n",
    "race= General.GetAllRaces(year)[round]\n",
    "df = GetLapTimesForDriver(year,race,\"R\")\n",
    "current_directory = os.getcwd()\n",
    "new_folder = os.path.join(current_directory, 'New')\n",
    "os.makedirs(new_folder, exist_ok=True)\n",
    "c = General.GetCountryOfRound(round, year)\n",
    "file_name = f\"{round}{c}.csv\"\n",
    "file_path = os.path.join(new_folder, file_name)\n",
    "df.to_csv(file_path, index=False)"
   ]
  },
  {
   "cell_type": "code",
   "execution_count": null,
   "id": "82606778",
   "metadata": {},
   "outputs": [],
   "source": []
  }
 ],
 "metadata": {
  "kernelspec": {
   "display_name": "venv",
   "language": "python",
   "name": "python3"
  },
  "language_info": {
   "codemirror_mode": {
    "name": "ipython",
    "version": 3
   },
   "file_extension": ".py",
   "mimetype": "text/x-python",
   "name": "python",
   "nbconvert_exporter": "python",
   "pygments_lexer": "ipython3",
   "version": "3.13.3"
  }
 },
 "nbformat": 4,
 "nbformat_minor": 5
}
